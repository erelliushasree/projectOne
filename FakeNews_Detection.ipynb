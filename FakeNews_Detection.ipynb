{
  "nbformat": 4,
  "nbformat_minor": 0,
  "metadata": {
    "colab": {
      "provenance": [],
      "mount_file_id": "1rTFiHi5jt-iydony46pjo4sZRvuLUudp",
      "authorship_tag": "ABX9TyPd0x6/Y0eoP0gQhEFh2O8v",
      "include_colab_link": true
    },
    "kernelspec": {
      "name": "python3",
      "display_name": "Python 3"
    },
    "language_info": {
      "name": "python"
    }
  },
  "cells": [
    {
      "cell_type": "markdown",
      "metadata": {
        "id": "view-in-github",
        "colab_type": "text"
      },
      "source": [
        "<a href=\"https://colab.research.google.com/github/erelliushasree/projectOne/blob/master/FakeNews_Detection.ipynb\" target=\"_parent\"><img src=\"https://colab.research.google.com/assets/colab-badge.svg\" alt=\"Open In Colab\"/></a>"
      ]
    },
    {
      "cell_type": "code",
      "execution_count": 3,
      "metadata": {
        "id": "TKXCqnQW6vvU"
      },
      "outputs": [],
      "source": [
        "import numpy as np\n",
        "import pandas as pd\n",
        "import re\n",
        "from nltk.corpus import stopwords\n",
        "from nltk.stem.porter import PorterStemmer\n",
        "from sklearn.feature_extraction.text import TfidfVectorizer\n",
        "from sklearn.model_selection import train_test_split\n",
        "from sklearn.linear_model import LogisticRegression\n",
        "from sklearn.metrics import accuracy_score\n"
      ]
    },
    {
      "cell_type": "code",
      "source": [
        "import nltk\n",
        "nltk.download('stopwords')"
      ],
      "metadata": {
        "colab": {
          "base_uri": "https://localhost:8080/"
        },
        "id": "34yunSMfHzf4",
        "outputId": "2500c54b-3276-4a71-d461-d8e1c245f0be"
      },
      "execution_count": 4,
      "outputs": [
        {
          "output_type": "stream",
          "name": "stderr",
          "text": [
            "[nltk_data] Downloading package stopwords to /root/nltk_data...\n",
            "[nltk_data]   Unzipping corpora/stopwords.zip.\n"
          ]
        },
        {
          "output_type": "execute_result",
          "data": {
            "text/plain": [
              "True"
            ]
          },
          "metadata": {},
          "execution_count": 4
        }
      ]
    },
    {
      "cell_type": "code",
      "source": [
        "#printing stopwords in english\n",
        "print(stopwords.words('english'))"
      ],
      "metadata": {
        "colab": {
          "base_uri": "https://localhost:8080/"
        },
        "id": "7ufpCFlzIFTl",
        "outputId": "a3d472bd-1971-43a9-d6d4-5ee5d2da8fbc"
      },
      "execution_count": 5,
      "outputs": [
        {
          "output_type": "stream",
          "name": "stdout",
          "text": [
            "['a', 'about', 'above', 'after', 'again', 'against', 'ain', 'all', 'am', 'an', 'and', 'any', 'are', 'aren', \"aren't\", 'as', 'at', 'be', 'because', 'been', 'before', 'being', 'below', 'between', 'both', 'but', 'by', 'can', 'couldn', \"couldn't\", 'd', 'did', 'didn', \"didn't\", 'do', 'does', 'doesn', \"doesn't\", 'doing', 'don', \"don't\", 'down', 'during', 'each', 'few', 'for', 'from', 'further', 'had', 'hadn', \"hadn't\", 'has', 'hasn', \"hasn't\", 'have', 'haven', \"haven't\", 'having', 'he', \"he'd\", \"he'll\", 'her', 'here', 'hers', 'herself', \"he's\", 'him', 'himself', 'his', 'how', 'i', \"i'd\", 'if', \"i'll\", \"i'm\", 'in', 'into', 'is', 'isn', \"isn't\", 'it', \"it'd\", \"it'll\", \"it's\", 'its', 'itself', \"i've\", 'just', 'll', 'm', 'ma', 'me', 'mightn', \"mightn't\", 'more', 'most', 'mustn', \"mustn't\", 'my', 'myself', 'needn', \"needn't\", 'no', 'nor', 'not', 'now', 'o', 'of', 'off', 'on', 'once', 'only', 'or', 'other', 'our', 'ours', 'ourselves', 'out', 'over', 'own', 're', 's', 'same', 'shan', \"shan't\", 'she', \"she'd\", \"she'll\", \"she's\", 'should', 'shouldn', \"shouldn't\", \"should've\", 'so', 'some', 'such', 't', 'than', 'that', \"that'll\", 'the', 'their', 'theirs', 'them', 'themselves', 'then', 'there', 'these', 'they', \"they'd\", \"they'll\", \"they're\", \"they've\", 'this', 'those', 'through', 'to', 'too', 'under', 'until', 'up', 've', 'very', 'was', 'wasn', \"wasn't\", 'we', \"we'd\", \"we'll\", \"we're\", 'were', 'weren', \"weren't\", \"we've\", 'what', 'when', 'where', 'which', 'while', 'who', 'whom', 'why', 'will', 'with', 'won', \"won't\", 'wouldn', \"wouldn't\", 'y', 'you', \"you'd\", \"you'll\", 'your', \"you're\", 'yours', 'yourself', 'yourselves', \"you've\"]\n"
          ]
        }
      ]
    },
    {
      "cell_type": "markdown",
      "source": [
        "Data pre-processing"
      ],
      "metadata": {
        "id": "RWHh-2K_mlo8"
      }
    },
    {
      "cell_type": "code",
      "source": [
        "#loading the dataset to a pandas DataFrame\n",
        "news_dataset=pd.read_csv('/content/train.csv')"
      ],
      "metadata": {
        "id": "wP-q0VYGmOln"
      },
      "execution_count": 6,
      "outputs": []
    },
    {
      "cell_type": "code",
      "source": [
        "news_dataset.shape\n"
      ],
      "metadata": {
        "colab": {
          "base_uri": "https://localhost:8080/"
        },
        "id": "gMDvNb3boGI4",
        "outputId": "e3f8ea5f-67c6-4a7c-f645-0a8d629f7911"
      },
      "execution_count": 7,
      "outputs": [
        {
          "output_type": "execute_result",
          "data": {
            "text/plain": [
              "(4986, 2)"
            ]
          },
          "metadata": {},
          "execution_count": 7
        }
      ]
    },
    {
      "cell_type": "code",
      "source": [
        "#print the first 2 rows of the dataframe\n",
        "news_dataset.head()"
      ],
      "metadata": {
        "colab": {
          "base_uri": "https://localhost:8080/",
          "height": 206
        },
        "id": "6bZmRW00oNmV",
        "outputId": "e6a94cf4-098c-453c-94d4-c445555be811"
      },
      "execution_count": 8,
      "outputs": [
        {
          "output_type": "execute_result",
          "data": {
            "text/plain": [
              "                                                text  label\n",
              "0  Get the latest from TODAY Sign up for our news...      1\n",
              "1  2d  Conan On The Funeral Trump Will Be Invited...      1\n",
              "2  It’s safe to say that Instagram Stories has fa...      0\n",
              "3  Much like a certain Amazon goddess with a lass...      0\n",
              "4  At a time when the perfect outfit is just one ...      0"
            ],
            "text/html": [
              "\n",
              "  <div id=\"df-44dcfdc7-deeb-44ce-b937-44d6b1073a84\" class=\"colab-df-container\">\n",
              "    <div>\n",
              "<style scoped>\n",
              "    .dataframe tbody tr th:only-of-type {\n",
              "        vertical-align: middle;\n",
              "    }\n",
              "\n",
              "    .dataframe tbody tr th {\n",
              "        vertical-align: top;\n",
              "    }\n",
              "\n",
              "    .dataframe thead th {\n",
              "        text-align: right;\n",
              "    }\n",
              "</style>\n",
              "<table border=\"1\" class=\"dataframe\">\n",
              "  <thead>\n",
              "    <tr style=\"text-align: right;\">\n",
              "      <th></th>\n",
              "      <th>text</th>\n",
              "      <th>label</th>\n",
              "    </tr>\n",
              "  </thead>\n",
              "  <tbody>\n",
              "    <tr>\n",
              "      <th>0</th>\n",
              "      <td>Get the latest from TODAY Sign up for our news...</td>\n",
              "      <td>1</td>\n",
              "    </tr>\n",
              "    <tr>\n",
              "      <th>1</th>\n",
              "      <td>2d  Conan On The Funeral Trump Will Be Invited...</td>\n",
              "      <td>1</td>\n",
              "    </tr>\n",
              "    <tr>\n",
              "      <th>2</th>\n",
              "      <td>It’s safe to say that Instagram Stories has fa...</td>\n",
              "      <td>0</td>\n",
              "    </tr>\n",
              "    <tr>\n",
              "      <th>3</th>\n",
              "      <td>Much like a certain Amazon goddess with a lass...</td>\n",
              "      <td>0</td>\n",
              "    </tr>\n",
              "    <tr>\n",
              "      <th>4</th>\n",
              "      <td>At a time when the perfect outfit is just one ...</td>\n",
              "      <td>0</td>\n",
              "    </tr>\n",
              "  </tbody>\n",
              "</table>\n",
              "</div>\n",
              "    <div class=\"colab-df-buttons\">\n",
              "\n",
              "  <div class=\"colab-df-container\">\n",
              "    <button class=\"colab-df-convert\" onclick=\"convertToInteractive('df-44dcfdc7-deeb-44ce-b937-44d6b1073a84')\"\n",
              "            title=\"Convert this dataframe to an interactive table.\"\n",
              "            style=\"display:none;\">\n",
              "\n",
              "  <svg xmlns=\"http://www.w3.org/2000/svg\" height=\"24px\" viewBox=\"0 -960 960 960\">\n",
              "    <path d=\"M120-120v-720h720v720H120Zm60-500h600v-160H180v160Zm220 220h160v-160H400v160Zm0 220h160v-160H400v160ZM180-400h160v-160H180v160Zm440 0h160v-160H620v160ZM180-180h160v-160H180v160Zm440 0h160v-160H620v160Z\"/>\n",
              "  </svg>\n",
              "    </button>\n",
              "\n",
              "  <style>\n",
              "    .colab-df-container {\n",
              "      display:flex;\n",
              "      gap: 12px;\n",
              "    }\n",
              "\n",
              "    .colab-df-convert {\n",
              "      background-color: #E8F0FE;\n",
              "      border: none;\n",
              "      border-radius: 50%;\n",
              "      cursor: pointer;\n",
              "      display: none;\n",
              "      fill: #1967D2;\n",
              "      height: 32px;\n",
              "      padding: 0 0 0 0;\n",
              "      width: 32px;\n",
              "    }\n",
              "\n",
              "    .colab-df-convert:hover {\n",
              "      background-color: #E2EBFA;\n",
              "      box-shadow: 0px 1px 2px rgba(60, 64, 67, 0.3), 0px 1px 3px 1px rgba(60, 64, 67, 0.15);\n",
              "      fill: #174EA6;\n",
              "    }\n",
              "\n",
              "    .colab-df-buttons div {\n",
              "      margin-bottom: 4px;\n",
              "    }\n",
              "\n",
              "    [theme=dark] .colab-df-convert {\n",
              "      background-color: #3B4455;\n",
              "      fill: #D2E3FC;\n",
              "    }\n",
              "\n",
              "    [theme=dark] .colab-df-convert:hover {\n",
              "      background-color: #434B5C;\n",
              "      box-shadow: 0px 1px 3px 1px rgba(0, 0, 0, 0.15);\n",
              "      filter: drop-shadow(0px 1px 2px rgba(0, 0, 0, 0.3));\n",
              "      fill: #FFFFFF;\n",
              "    }\n",
              "  </style>\n",
              "\n",
              "    <script>\n",
              "      const buttonEl =\n",
              "        document.querySelector('#df-44dcfdc7-deeb-44ce-b937-44d6b1073a84 button.colab-df-convert');\n",
              "      buttonEl.style.display =\n",
              "        google.colab.kernel.accessAllowed ? 'block' : 'none';\n",
              "\n",
              "      async function convertToInteractive(key) {\n",
              "        const element = document.querySelector('#df-44dcfdc7-deeb-44ce-b937-44d6b1073a84');\n",
              "        const dataTable =\n",
              "          await google.colab.kernel.invokeFunction('convertToInteractive',\n",
              "                                                    [key], {});\n",
              "        if (!dataTable) return;\n",
              "\n",
              "        const docLinkHtml = 'Like what you see? Visit the ' +\n",
              "          '<a target=\"_blank\" href=https://colab.research.google.com/notebooks/data_table.ipynb>data table notebook</a>'\n",
              "          + ' to learn more about interactive tables.';\n",
              "        element.innerHTML = '';\n",
              "        dataTable['output_type'] = 'display_data';\n",
              "        await google.colab.output.renderOutput(dataTable, element);\n",
              "        const docLink = document.createElement('div');\n",
              "        docLink.innerHTML = docLinkHtml;\n",
              "        element.appendChild(docLink);\n",
              "      }\n",
              "    </script>\n",
              "  </div>\n",
              "\n",
              "\n",
              "    <div id=\"df-872a32ee-f412-4f90-a5ce-385fcd4e7152\">\n",
              "      <button class=\"colab-df-quickchart\" onclick=\"quickchart('df-872a32ee-f412-4f90-a5ce-385fcd4e7152')\"\n",
              "                title=\"Suggest charts\"\n",
              "                style=\"display:none;\">\n",
              "\n",
              "<svg xmlns=\"http://www.w3.org/2000/svg\" height=\"24px\"viewBox=\"0 0 24 24\"\n",
              "     width=\"24px\">\n",
              "    <g>\n",
              "        <path d=\"M19 3H5c-1.1 0-2 .9-2 2v14c0 1.1.9 2 2 2h14c1.1 0 2-.9 2-2V5c0-1.1-.9-2-2-2zM9 17H7v-7h2v7zm4 0h-2V7h2v10zm4 0h-2v-4h2v4z\"/>\n",
              "    </g>\n",
              "</svg>\n",
              "      </button>\n",
              "\n",
              "<style>\n",
              "  .colab-df-quickchart {\n",
              "      --bg-color: #E8F0FE;\n",
              "      --fill-color: #1967D2;\n",
              "      --hover-bg-color: #E2EBFA;\n",
              "      --hover-fill-color: #174EA6;\n",
              "      --disabled-fill-color: #AAA;\n",
              "      --disabled-bg-color: #DDD;\n",
              "  }\n",
              "\n",
              "  [theme=dark] .colab-df-quickchart {\n",
              "      --bg-color: #3B4455;\n",
              "      --fill-color: #D2E3FC;\n",
              "      --hover-bg-color: #434B5C;\n",
              "      --hover-fill-color: #FFFFFF;\n",
              "      --disabled-bg-color: #3B4455;\n",
              "      --disabled-fill-color: #666;\n",
              "  }\n",
              "\n",
              "  .colab-df-quickchart {\n",
              "    background-color: var(--bg-color);\n",
              "    border: none;\n",
              "    border-radius: 50%;\n",
              "    cursor: pointer;\n",
              "    display: none;\n",
              "    fill: var(--fill-color);\n",
              "    height: 32px;\n",
              "    padding: 0;\n",
              "    width: 32px;\n",
              "  }\n",
              "\n",
              "  .colab-df-quickchart:hover {\n",
              "    background-color: var(--hover-bg-color);\n",
              "    box-shadow: 0 1px 2px rgba(60, 64, 67, 0.3), 0 1px 3px 1px rgba(60, 64, 67, 0.15);\n",
              "    fill: var(--button-hover-fill-color);\n",
              "  }\n",
              "\n",
              "  .colab-df-quickchart-complete:disabled,\n",
              "  .colab-df-quickchart-complete:disabled:hover {\n",
              "    background-color: var(--disabled-bg-color);\n",
              "    fill: var(--disabled-fill-color);\n",
              "    box-shadow: none;\n",
              "  }\n",
              "\n",
              "  .colab-df-spinner {\n",
              "    border: 2px solid var(--fill-color);\n",
              "    border-color: transparent;\n",
              "    border-bottom-color: var(--fill-color);\n",
              "    animation:\n",
              "      spin 1s steps(1) infinite;\n",
              "  }\n",
              "\n",
              "  @keyframes spin {\n",
              "    0% {\n",
              "      border-color: transparent;\n",
              "      border-bottom-color: var(--fill-color);\n",
              "      border-left-color: var(--fill-color);\n",
              "    }\n",
              "    20% {\n",
              "      border-color: transparent;\n",
              "      border-left-color: var(--fill-color);\n",
              "      border-top-color: var(--fill-color);\n",
              "    }\n",
              "    30% {\n",
              "      border-color: transparent;\n",
              "      border-left-color: var(--fill-color);\n",
              "      border-top-color: var(--fill-color);\n",
              "      border-right-color: var(--fill-color);\n",
              "    }\n",
              "    40% {\n",
              "      border-color: transparent;\n",
              "      border-right-color: var(--fill-color);\n",
              "      border-top-color: var(--fill-color);\n",
              "    }\n",
              "    60% {\n",
              "      border-color: transparent;\n",
              "      border-right-color: var(--fill-color);\n",
              "    }\n",
              "    80% {\n",
              "      border-color: transparent;\n",
              "      border-right-color: var(--fill-color);\n",
              "      border-bottom-color: var(--fill-color);\n",
              "    }\n",
              "    90% {\n",
              "      border-color: transparent;\n",
              "      border-bottom-color: var(--fill-color);\n",
              "    }\n",
              "  }\n",
              "</style>\n",
              "\n",
              "      <script>\n",
              "        async function quickchart(key) {\n",
              "          const quickchartButtonEl =\n",
              "            document.querySelector('#' + key + ' button');\n",
              "          quickchartButtonEl.disabled = true;  // To prevent multiple clicks.\n",
              "          quickchartButtonEl.classList.add('colab-df-spinner');\n",
              "          try {\n",
              "            const charts = await google.colab.kernel.invokeFunction(\n",
              "                'suggestCharts', [key], {});\n",
              "          } catch (error) {\n",
              "            console.error('Error during call to suggestCharts:', error);\n",
              "          }\n",
              "          quickchartButtonEl.classList.remove('colab-df-spinner');\n",
              "          quickchartButtonEl.classList.add('colab-df-quickchart-complete');\n",
              "        }\n",
              "        (() => {\n",
              "          let quickchartButtonEl =\n",
              "            document.querySelector('#df-872a32ee-f412-4f90-a5ce-385fcd4e7152 button');\n",
              "          quickchartButtonEl.style.display =\n",
              "            google.colab.kernel.accessAllowed ? 'block' : 'none';\n",
              "        })();\n",
              "      </script>\n",
              "    </div>\n",
              "\n",
              "    </div>\n",
              "  </div>\n"
            ],
            "application/vnd.google.colaboratory.intrinsic+json": {
              "type": "dataframe",
              "variable_name": "news_dataset",
              "summary": "{\n  \"name\": \"news_dataset\",\n  \"rows\": 4986,\n  \"fields\": [\n    {\n      \"column\": \"text\",\n      \"properties\": {\n        \"dtype\": \"string\",\n        \"num_unique_values\": 4729,\n        \"samples\": [\n          \"In the seven months since his abrupt separation from wife Angelina Jolie, Brad Pitt has kept a low profile. It all changed this week when his first interview post the split appeared in GQ.  Pitt had been accused of beating his 15-year-old son Maddox on a plane in September, which prompted Jolie to file for divorce. The FBI and Child Services investigated him for child abuse. He was romantically linked to his Allied co-star Marion Cotillard, which she immediately denied.  The GQ spread, apart from the interview, includes a massive 8-day photoshoot of Pitt, 53, \\u201ctumbling through\\u201d three national parks, and a music video.  But according to the BBC, it was all a planned move by Pitt to correct his faltering image. In the interview, the actor admitted to having an alcohol problem, and how it might have caused the problems in his life. He said he is undergoing therapy and is on a road to recovery after coming to terms with the \\u201cself-inflicted\\u201d situation he\\u2019s in.  But instead of being called out for his behaviour, which, by his own admission is the reason his family was jarringly \\u201cripped apart\\u201d the Internet has sided with him.  An article titled \\u201cWhy Brad Pitt won the Jolie-Pitt war by throwing himself on his sword\\u201d published on E! said, \\u201cThrowing caution to the wind - and simultaneously capitalizing on 30 years of goodwill built up in Hollywood - Brad went for it, translating what he\\u2019s gleaned from his newfound love of therapy into a painfully self-aware, self-deprecating, oft-poetic and at times rambling discourse on a charmed life that veered off course and what he\\u2019s doing to right the ship.\\u201d  Vanity Fair said, \\u201cPitt clearly studied the lay-it-all-bare, heart-on-my-sleeve, owning-my-flaws interview section of the post-celebrity-divorce playbook. Learning from his tumultuous year is a theme of the talk, especially regarding the divorce, which is still under way. He comes across candid, remorseful, and keen to let the world know that he\\u2019s doing a lot of work on himself.\\u201d  And Huffington Post completes the trifecta of acceptance: \\u201cPeople like (Brad) do so much to give a face to the addiction crisis that claims so many lives. Thank you for your honesty, your courage, and your willingness to open up about your recovery.\\u201d  The BBC quotes PR guru Mark Borkowski as saying that Pitt would have \\u201cTotal copy approval, total picture approval, total headline approval,\\u201d on the interview.  \\u201cBut of course the timing is calculated,\\u201d Borkowski continues. \\u201cThe language is calculated. Everything is calculated. And everything is a gamble.\\u201d  \\u201cA lot of people prefer to stay before the waterline and not do it. He\\u2019s taken a massive risk and I can think of many who just wouldn\\u2019t go this far.\\u201d  Follow @htshowbiz for more  First Published: May 05, 2017 10:06 IST\",\n          \"With the sudden departure of Bebe Neuwirth\\u2019s Nadine Tolliver, there is an opening at the State Department on CBS\\u2019 Madam Secretary. And now Grey\\u2019s Anatomy alum Sara Ramirez has joined the cast as a new series regular.  Ramirez will play Kat Sandoval, a brilliant political strategist, legendary in D.C. for her talent and for abruptly dropping out of politics until Elizabeth (T\\u00e9a Leoni) manages to coax her back into the State Department. CBS says Ramirez\\u2019s character will be introduced the November 19 episode.  \\u201cWe\\u2019re very excited that Sara is joining the cast,\\u201d said Barbara Hall, executive producer and series creator. \\u201cShe brings a fresh perspective and a fun, energetic quality to the State Department staff.\\u201d  \\u201cWe are thrilled to have Sara join the Madam Secretary State Department team,\\u201d said Lori McCreary, executive producer. \\u201cFrom the moment she walked on set with her talent, intellect and spirit, she became part of the family!\\u201d  This is Ramirez first series regular TV role since her departure last year from ABC\\u2019s Grey\\u2019s Anatomy, where she appeared for over a decade as Dr. Callie Torres. She\\u2019s currently the voice of Queen Miranda on Disney Jr.\\u2019s hit animated series Sofia the First and the voice of Mam\\u00e1 Calaca in Vampirina. Ramirez previously won a Tony Award for her performance in Monty Python\\u2019s Spamalot.  In addition to Leoni, Madam Secretary stars Tim Daly, Zeljko Ivanek, Keith Carradine, Sebastian Arcelus, Patina Miller, Geoffrey Arend, Erich Bergen, Kathrine Herzer, Wallis Currie-Wood and Evan Roe.  Barbara Hall, Lori McCreary, David Grae, Eric Stoltz and Morgan Freeman are executive producers for CBS Television Studios in association with Revelations Entertainment.  Madam Secretary airs Sundays at 10 PM on CBS.\",\n          \"The real reason Jennifer Aniston and Justin Theroux split  In news that shocked the world and left pretty much all of us believing that love is dead, Jennifer Aniston and Justin Theroux are over.  The estranged couple said in a joint statement to the The Associated Press on Feb. 15, 2018, \\\"Normally we would do this privately, but given that the gossip industry cannot resist an opportunity to speculate and invent, we wanted to convey the truth directly. Whatever else is printed about us that is not directly from us, is someone else's fictional narrative. Above all, we are determined to maintain the deep respect and love that we have for one another.\\\"  They were a couple since 2011, but were only married two years before pulling the plug on the relationship. What the heck happened to this seemingly happy husband and wife?\"\n        ],\n        \"semantic_type\": \"\",\n        \"description\": \"\"\n      }\n    },\n    {\n      \"column\": \"label\",\n      \"properties\": {\n        \"dtype\": \"number\",\n        \"std\": 0,\n        \"min\": 0,\n        \"max\": 1,\n        \"num_unique_values\": 2,\n        \"samples\": [\n          0,\n          1\n        ],\n        \"semantic_type\": \"\",\n        \"description\": \"\"\n      }\n    }\n  ]\n}"
            }
          },
          "metadata": {},
          "execution_count": 8
        }
      ]
    },
    {
      "cell_type": "code",
      "source": [
        "#counting the no.of missing values in the dataset\n",
        "news_dataset.isnull().sum()  # 0 specifies no missing values"
      ],
      "metadata": {
        "colab": {
          "base_uri": "https://localhost:8080/",
          "height": 146
        },
        "id": "pJIAtyE-oNR_",
        "outputId": "f587a8bc-9cca-4876-ea96-3644566e458e"
      },
      "execution_count": 9,
      "outputs": [
        {
          "output_type": "execute_result",
          "data": {
            "text/plain": [
              "text     0\n",
              "label    0\n",
              "dtype: int64"
            ],
            "text/html": [
              "<div>\n",
              "<style scoped>\n",
              "    .dataframe tbody tr th:only-of-type {\n",
              "        vertical-align: middle;\n",
              "    }\n",
              "\n",
              "    .dataframe tbody tr th {\n",
              "        vertical-align: top;\n",
              "    }\n",
              "\n",
              "    .dataframe thead th {\n",
              "        text-align: right;\n",
              "    }\n",
              "</style>\n",
              "<table border=\"1\" class=\"dataframe\">\n",
              "  <thead>\n",
              "    <tr style=\"text-align: right;\">\n",
              "      <th></th>\n",
              "      <th>0</th>\n",
              "    </tr>\n",
              "  </thead>\n",
              "  <tbody>\n",
              "    <tr>\n",
              "      <th>text</th>\n",
              "      <td>0</td>\n",
              "    </tr>\n",
              "    <tr>\n",
              "      <th>label</th>\n",
              "      <td>0</td>\n",
              "    </tr>\n",
              "  </tbody>\n",
              "</table>\n",
              "</div><br><label><b>dtype:</b> int64</label>"
            ]
          },
          "metadata": {},
          "execution_count": 9
        }
      ]
    },
    {
      "cell_type": "code",
      "source": [
        "#replacing the null values with empty string\n",
        "news_dataset=news_dataset.fillna('')"
      ],
      "metadata": {
        "id": "xyWwrS1QoNJl"
      },
      "execution_count": 10,
      "outputs": []
    },
    {
      "cell_type": "code",
      "source": [
        "news_dataset['content']=news_dataset['text']"
      ],
      "metadata": {
        "id": "FaRocfRlpTGd"
      },
      "execution_count": 11,
      "outputs": []
    },
    {
      "cell_type": "code",
      "source": [
        "print(news_dataset['content'])"
      ],
      "metadata": {
        "colab": {
          "base_uri": "https://localhost:8080/"
        },
        "id": "boudDqi2qTob",
        "outputId": "634c6361-c407-4fb7-dcb0-295bd6c2bf0a"
      },
      "execution_count": 12,
      "outputs": [
        {
          "output_type": "stream",
          "name": "stdout",
          "text": [
            "0       Get the latest from TODAY Sign up for our news...\n",
            "1       2d  Conan On The Funeral Trump Will Be Invited...\n",
            "2       It’s safe to say that Instagram Stories has fa...\n",
            "3       Much like a certain Amazon goddess with a lass...\n",
            "4       At a time when the perfect outfit is just one ...\n",
            "                              ...                        \n",
            "4981    The storybook romance of WWE stars John Cena a...\n",
            "4982    The actor told friends he’s responsible for en...\n",
            "4983    Sarah Hyland is getting real.  The Modern Fami...\n",
            "4984    Production has been suspended on the sixth and...\n",
            "4985    A jury ruled against Bill Cosby in his sexual ...\n",
            "Name: content, Length: 4986, dtype: object\n"
          ]
        }
      ]
    },
    {
      "cell_type": "code",
      "source": [
        "#separating the data and label using drop\n",
        "X=news_dataset.drop(columns='label',axis=1)\n",
        "Y=news_dataset['label']"
      ],
      "metadata": {
        "id": "4UsILSbUqa8q"
      },
      "execution_count": 13,
      "outputs": []
    },
    {
      "cell_type": "code",
      "source": [
        "print(X)\n",
        "print(Y)"
      ],
      "metadata": {
        "colab": {
          "base_uri": "https://localhost:8080/"
        },
        "id": "kaoBh2p0q5Oz",
        "outputId": "a890575c-a003-46f1-8df1-ec6e971daea6"
      },
      "execution_count": 14,
      "outputs": [
        {
          "output_type": "stream",
          "name": "stdout",
          "text": [
            "                                                   text  \\\n",
            "0     Get the latest from TODAY Sign up for our news...   \n",
            "1     2d  Conan On The Funeral Trump Will Be Invited...   \n",
            "2     It’s safe to say that Instagram Stories has fa...   \n",
            "3     Much like a certain Amazon goddess with a lass...   \n",
            "4     At a time when the perfect outfit is just one ...   \n",
            "...                                                 ...   \n",
            "4981  The storybook romance of WWE stars John Cena a...   \n",
            "4982  The actor told friends he’s responsible for en...   \n",
            "4983  Sarah Hyland is getting real.  The Modern Fami...   \n",
            "4984  Production has been suspended on the sixth and...   \n",
            "4985  A jury ruled against Bill Cosby in his sexual ...   \n",
            "\n",
            "                                                content  \n",
            "0     Get the latest from TODAY Sign up for our news...  \n",
            "1     2d  Conan On The Funeral Trump Will Be Invited...  \n",
            "2     It’s safe to say that Instagram Stories has fa...  \n",
            "3     Much like a certain Amazon goddess with a lass...  \n",
            "4     At a time when the perfect outfit is just one ...  \n",
            "...                                                 ...  \n",
            "4981  The storybook romance of WWE stars John Cena a...  \n",
            "4982  The actor told friends he’s responsible for en...  \n",
            "4983  Sarah Hyland is getting real.  The Modern Fami...  \n",
            "4984  Production has been suspended on the sixth and...  \n",
            "4985  A jury ruled against Bill Cosby in his sexual ...  \n",
            "\n",
            "[4986 rows x 2 columns]\n",
            "0       1\n",
            "1       1\n",
            "2       0\n",
            "3       0\n",
            "4       0\n",
            "       ..\n",
            "4981    0\n",
            "4982    0\n",
            "4983    0\n",
            "4984    0\n",
            "4985    0\n",
            "Name: label, Length: 4986, dtype: int64\n"
          ]
        }
      ]
    },
    {
      "cell_type": "markdown",
      "source": [
        "Stemming : it is a process of reducing a word to its root word . ex: actor,actress,acting-----> root word is act"
      ],
      "metadata": {
        "id": "VRqkFMmMrLVm"
      }
    },
    {
      "cell_type": "code",
      "source": [
        "port_stem=PorterStemmer()"
      ],
      "metadata": {
        "id": "EdnuCwGQrc0g"
      },
      "execution_count": 15,
      "outputs": []
    },
    {
      "cell_type": "code",
      "source": [
        "def stemming(content): #creating function called stemming ,content specifies the input we are giving.\n",
        "  stemmed_content=re.sub('[^a-zA-Z]',' ',content) # we are using regular expression for searching paragraph or text , sub means substitute certain values  ^ means exclusion and a-zA-Z means we want only alphabets we dont want numbers special character etc., and feed this data to content\n",
        "  stemmed_content=stemmed_content.lower() # converting all the letters to lowercase\n",
        "  stemmed_content=stemmed_content.split() # after that we split the dataset into list\n",
        "  stemmed_content=[port_stem.stem(word) for word in stemmed_content if not word in stopwords.words('english')]\n",
        "  stemmed_content=' '.join(stemmed_content)\n",
        "  return stemmed_content"
      ],
      "metadata": {
        "id": "TKEqZBeurAz7"
      },
      "execution_count": 16,
      "outputs": []
    },
    {
      "cell_type": "code",
      "source": [
        "news_dataset['content']=news_dataset['content'].apply(stemming)"
      ],
      "metadata": {
        "id": "dlj2TYHkvUbk"
      },
      "execution_count": 17,
      "outputs": []
    },
    {
      "cell_type": "code",
      "source": [
        "print(news_dataset['content'])"
      ],
      "metadata": {
        "colab": {
          "base_uri": "https://localhost:8080/"
        },
        "id": "y_y0g6WHwy8g",
        "outputId": "be7dc409-8d09-4f25-9a67-84940cb6f39e"
      },
      "execution_count": 18,
      "outputs": [
        {
          "output_type": "stream",
          "name": "stdout",
          "text": [
            "0       get latest today sign newslett one ever truli ...\n",
            "1                        conan funer trump invit conan tb\n",
            "2       safe say instagram stori far surpass competito...\n",
            "3       much like certain amazon goddess lasso height ...\n",
            "4       time perfect outfit one click away high demand...\n",
            "                              ...                        \n",
            "4981    storybook romanc wwe star john cena nikki bell...\n",
            "4982    actor told friend respons encourag brad reigni...\n",
            "4983    sarah hyland get real modern famili star took ...\n",
            "4984    product suspend sixth final season netflix hou...\n",
            "4985    juri rule bill cosbi sexual assault retrial th...\n",
            "Name: content, Length: 4986, dtype: object\n"
          ]
        }
      ]
    },
    {
      "cell_type": "code",
      "source": [
        "#separating the data and label\n",
        "X=news_dataset['content'].values\n",
        "Y-news_dataset['label'].values"
      ],
      "metadata": {
        "colab": {
          "base_uri": "https://localhost:8080/",
          "height": 458
        },
        "id": "DzGSdtywxAmp",
        "outputId": "b0a124e5-def6-4749-8eb2-e6ddbc17fba4"
      },
      "execution_count": 19,
      "outputs": [
        {
          "output_type": "execute_result",
          "data": {
            "text/plain": [
              "0       0\n",
              "1       0\n",
              "2       0\n",
              "3       0\n",
              "4       0\n",
              "       ..\n",
              "4981    0\n",
              "4982    0\n",
              "4983    0\n",
              "4984    0\n",
              "4985    0\n",
              "Name: label, Length: 4986, dtype: int64"
            ],
            "text/html": [
              "<div>\n",
              "<style scoped>\n",
              "    .dataframe tbody tr th:only-of-type {\n",
              "        vertical-align: middle;\n",
              "    }\n",
              "\n",
              "    .dataframe tbody tr th {\n",
              "        vertical-align: top;\n",
              "    }\n",
              "\n",
              "    .dataframe thead th {\n",
              "        text-align: right;\n",
              "    }\n",
              "</style>\n",
              "<table border=\"1\" class=\"dataframe\">\n",
              "  <thead>\n",
              "    <tr style=\"text-align: right;\">\n",
              "      <th></th>\n",
              "      <th>label</th>\n",
              "    </tr>\n",
              "  </thead>\n",
              "  <tbody>\n",
              "    <tr>\n",
              "      <th>0</th>\n",
              "      <td>0</td>\n",
              "    </tr>\n",
              "    <tr>\n",
              "      <th>1</th>\n",
              "      <td>0</td>\n",
              "    </tr>\n",
              "    <tr>\n",
              "      <th>2</th>\n",
              "      <td>0</td>\n",
              "    </tr>\n",
              "    <tr>\n",
              "      <th>3</th>\n",
              "      <td>0</td>\n",
              "    </tr>\n",
              "    <tr>\n",
              "      <th>4</th>\n",
              "      <td>0</td>\n",
              "    </tr>\n",
              "    <tr>\n",
              "      <th>...</th>\n",
              "      <td>...</td>\n",
              "    </tr>\n",
              "    <tr>\n",
              "      <th>4981</th>\n",
              "      <td>0</td>\n",
              "    </tr>\n",
              "    <tr>\n",
              "      <th>4982</th>\n",
              "      <td>0</td>\n",
              "    </tr>\n",
              "    <tr>\n",
              "      <th>4983</th>\n",
              "      <td>0</td>\n",
              "    </tr>\n",
              "    <tr>\n",
              "      <th>4984</th>\n",
              "      <td>0</td>\n",
              "    </tr>\n",
              "    <tr>\n",
              "      <th>4985</th>\n",
              "      <td>0</td>\n",
              "    </tr>\n",
              "  </tbody>\n",
              "</table>\n",
              "<p>4986 rows × 1 columns</p>\n",
              "</div><br><label><b>dtype:</b> int64</label>"
            ]
          },
          "metadata": {},
          "execution_count": 19
        }
      ]
    },
    {
      "cell_type": "code",
      "source": [
        "print(X)"
      ],
      "metadata": {
        "colab": {
          "base_uri": "https://localhost:8080/"
        },
        "id": "KRy4bBrJxdpF",
        "outputId": "c98517c5-f1dc-48a3-b1f8-2fa610253ef0"
      },
      "execution_count": 20,
      "outputs": [
        {
          "output_type": "stream",
          "name": "stdout",
          "text": [
            "['get latest today sign newslett one ever truli get lose love one blake shelton except older brother richi die nov shelton note tweet monday chang life forev richi die car accid shelton home state oklahoma two year ago shelton sent messag th anniversari loss richi blake half brother share mother passeng car collid school bu ada south oklahoma citi richi driver redena mcmanu year old boy christoph mcmanu die shortli collis bu driver passeng uninjur accord polic report accid clearli remain blake told minut rememb pick phone call week dead tell someth pick phone call tell someth saw tv like constantli shock dead blake shelton play today halloween extravaganza new york citi oct getti imag blake wife miranda lambert wrote singl call inspir richi still two brother bond despit age differ share love countri music bedroom right across hallway mine littl blake said interview listen hank william jr waylon lynyrd skynyrd bob seeger whatev popular realli richi love music would sit go man guy hero coolest guy big brother follow rande dawn twitter'\n",
            " 'conan funer trump invit conan tb'\n",
            " 'safe say instagram stori far surpass competitor snapchat popular sinc incept two year ago favorit celebr hop social media trend unlik highli curat photo feed instagram stori celebr seem comfort enough raw open need someth wait line short break take peek celebr instagram stori surprisingli engag entertain busi philipp busyphilipp fantast stori teller busi dub new yorker breakout star instagram stori captur everyth morn workout paparazzi run in everyth busi stori assum happen mandi moor mandymooremm follow mandi moor mani us behind scene stori worth alon also instastori home built decor mount kilimanjaro climb prepar behind hollywood red carpet event recent attend chrissi teigen chrissyteigen follow love twitter snapchat watch instagram stori humor cook ador daughter luna rees witherspoon reesewitherspoon rees may one biggest star world earth breath fresh air instagram stori sarah hyland sarahhyland somehow modern famili star make eat dinner solo watch bachelor interest enough keep watch candac cameron bure candacecbur soft spot candac sinc grow full hous live resurg career follow candac instagram stori fashion famili workout behind scene movi tv set eva chen evachen though may bias use platform sinc becom director fashion partnership instagram still one watch eva chronicl daili life earli morn ador kid intern fashion week event jessica alba jessicaalba new mama three ador show juggl home work life prepar back tv sure behind scene sneak peek kristin cavallari kristincavallari realiti tv cookbook author fashion design kristin share recip open first brick mortar fashion home design line uncommon jame spencer pratt spencerpratt hear hill alum may villain bad rap minut fame instagram stori highlight famili life month old son gunner wife heidi mani obsess includ hummingbird work coffe taylor swift'\n",
            " ...\n",
            " 'sarah hyland get real modern famili star took instagram late thursday night share candid photo hospit gown honor nation selfi day sometim selfi good angl feelin cute time nationalselfieday decid share truth pain caption shock imag face torn work grate health alway come first hyland ad stayhealthymyfriend share video hour hospit dog lick face taken past sunday day hospit liter tell get treatment hyland wrote wait come back preciou angel princess perfect know exactli need time instagram instagram hyland reveal caus hospit sourc tell et hospit better previous open health struggl social media march tweet chronic ill chronic pain experi doctor listen tear head bare hand year old actress diagnos kidney dysplasia child receiv kidney transplant hyland spoke et health year women march lo angel boyfriend well adam side support hear say video et reach hyland rep comment relat content sarah hyland say doctor listen complaint chronic pain sarah hyland reveal work boyfriend well adam person exclus well adam celebr girlfriend sarah hyland birthday incred bachelor style date relat galleri'\n",
            " 'product suspend sixth final season netflix hous card amid kevin spacey sexual assault scandal deadlin report netflix produc media right capit told mrc netflix decid suspend product hous card season six notic give us time review current situat address concern cast crew come monday news show would end next year sixth season actor anthoni rapp accus spacey sexual assault year old product sixth season alreadi begun prior anoth statement yesterday spacey alleg two compani said media right capit netflix deepli troubl last night news concern kevin spacey hous card consid one biggest moment career spacey robin wright also increas visibl mahershala ali mainstream entertain netflix first major origin seri product set stage know game chang stream giant hollywood seen floodgat accus victim come forward speak stori harvey weinstein debacl'\n",
            " 'juri rule bill cosbi sexual assault retrial thursday find guilti aggrav indec assault three count brought andrea constand entertain face possibl spend rest life prison cosbi show visibl reaction verdict react loudli district attorney kevin steel call entertain bail revok say cosbi plane could flee plane hole man known america dad shout provok gasp hush courtroom neill admonish entertain revok bail cosbi found guilti three count aggrav indec assault count carri maximum penalti year prison sentenc expect later year could forum women said sexual assault cosbi cosbi charg drug molest andrea constand oper manag women basketbal team templ univers home outsid philadelphia back januari cosbi contend sexual contact consensu relat gretchen carlson roger ail lawsuit affect cosbi case kevin spacey face feloni sexual assault charg post bizarr video juri announc deliv hush courtroom p mark stun end first celebr trial heat atmospher metoo movement panel seven men five women includ two african american began deliber case wednesday morn announc verdict th day retrial news confer later steel said constand come forward accus major factor metoo movement said hope verdict would help embolden victim sexual assault hope case send strong messag victim type crime come forward heard said steel constand stood quietli feet away steel said cosbi potenti face year prison declin say type sentenc would seek suggest would seek substanti fine note cosbi legal team describ civil settlement nearli million cosbi paid lawsuit brought constand paltri sum cosbi accus sexual assault dozen women past year constand alleg one becam subject crimin case charg cosbi file dec day year statut limit due expir trial drew number cosbi accus courthous one broke tear left courtroom juri forewoman disclos guilti verdict charg first brought trial last june juri end deadlock charg hour deliber year old entertain accus constand former oper manag women basketbal team templ univers drug molest januari constand said becam close cosbi major support univers view mentor alleg abus trust howev invit home montgomeri counti offer three blue pill help relax testifi took pill trust cosbi believ kind herbal relax soon becam incapacit said felt finger insid fight late wednesday juror ask read cosbi deposit civil lawsuit brought constand receiv settlement nearli million deposit cosbi describ move put constand night question cosbi also acknowledg mani year use give quaalud women want sex cosbi left courtroom without comment defens team noth say way court lead defens attorney thoma mesereau success defend michael jackson child molest charg team mount strong defens behalf entertain rever entertain major celebr face juri amid grow cultur awar problem sexual assault less year dozen rich power men accus sexual harass assault women decid publicli address issu constand public reaction verdict lawyer dolor troiani thank team law enforc offic prosecutor take power man said constand first file complaint cosbi year ago taken time obtain justic although justic delay deni said troiani said taken constand long time deal happen someth work everi day sinc januari said troiani life alter experi victim lawyer gloria allr repres number women say cosbi sexual assault said verdict victori victim said done women final believ said allr follow guilti verdict network bounc tv announc pull rerun cosbi show schedul popular video varieti com']\n"
          ]
        }
      ]
    },
    {
      "cell_type": "code",
      "source": [
        "print(Y)"
      ],
      "metadata": {
        "colab": {
          "base_uri": "https://localhost:8080/"
        },
        "id": "g-7hWA19xoMh",
        "outputId": "8b3d58e3-bd9f-41a2-8c5d-bafbab643147"
      },
      "execution_count": 21,
      "outputs": [
        {
          "output_type": "stream",
          "name": "stdout",
          "text": [
            "0       1\n",
            "1       1\n",
            "2       0\n",
            "3       0\n",
            "4       0\n",
            "       ..\n",
            "4981    0\n",
            "4982    0\n",
            "4983    0\n",
            "4984    0\n",
            "4985    0\n",
            "Name: label, Length: 4986, dtype: int64\n"
          ]
        }
      ]
    },
    {
      "cell_type": "code",
      "source": [
        "Y.shape"
      ],
      "metadata": {
        "colab": {
          "base_uri": "https://localhost:8080/"
        },
        "id": "FoZjYRqnxq5I",
        "outputId": "f441d0f4-a201-4896-8642-069e33097b96"
      },
      "execution_count": 22,
      "outputs": [
        {
          "output_type": "execute_result",
          "data": {
            "text/plain": [
              "(4986,)"
            ]
          },
          "metadata": {},
          "execution_count": 22
        }
      ]
    },
    {
      "cell_type": "code",
      "source": [
        "#converting the textual data to numerical data\n",
        "vectorizer=TfidfVectorizer() # Tf- term frequency , idf- inverse document frequency . (Tf-it counts no.of times the particular word is repeating in a document/text/paragraph.so the repetition tells the model that the word is very important and assigns particular numerical value to that word) . (idf- sometimes the word repeated many times doesn't have meaning in it, and detects those words are not significant and it reduces its important value\n",
        "vectorizer.fit(X)\n",
        "\n",
        "X=vectorizer.transform(X)"
      ],
      "metadata": {
        "id": "C0-Xgs2pxvFe"
      },
      "execution_count": 23,
      "outputs": []
    },
    {
      "cell_type": "code",
      "source": [
        "print(X)"
      ],
      "metadata": {
        "colab": {
          "base_uri": "https://localhost:8080/"
        },
        "id": "zQ4gJQai0UmX",
        "outputId": "e331da42-e736-4651-f286-6d53e3810f8d"
      },
      "execution_count": 24,
      "outputs": [
        {
          "output_type": "stream",
          "name": "stdout",
          "text": [
            "<Compressed Sparse Row sparse matrix of dtype 'float64'\n",
            "\twith 970346 stored elements and shape (4986, 43410)>\n",
            "  Coords\tValues\n",
            "  (0, 173)\t0.1248855332702942\n",
            "  (0, 185)\t0.031190974908102943\n",
            "  (0, 255)\t0.04819290555028625\n",
            "  (0, 279)\t0.09230909714107587\n",
            "  (0, 527)\t0.04197433923817173\n",
            "  (0, 561)\t0.04199869752238838\n",
            "  (0, 1431)\t0.05679635059999219\n",
            "  (0, 3150)\t0.0651905490390564\n",
            "  (0, 3660)\t0.03446435163729747\n",
            "  (0, 3899)\t0.35814418246694796\n",
            "  (0, 4111)\t0.061099763005242426\n",
            "  (0, 4235)\t0.05734174912822063\n",
            "  (0, 4469)\t0.043913097851338366\n",
            "  (0, 4920)\t0.17300809278001672\n",
            "  (0, 5003)\t0.13853321154871961\n",
            "  (0, 5492)\t0.08636725474642402\n",
            "  (0, 5727)\t0.09742842544431664\n",
            "  (0, 6369)\t0.03651391326763337\n",
            "  (0, 6864)\t0.061642552767868085\n",
            "  (0, 7014)\t0.08011018205445468\n",
            "  (0, 7138)\t0.05184599360401606\n",
            "  (0, 7463)\t0.08521999758076429\n",
            "  (0, 7466)\t0.08744902989167297\n",
            "  (0, 7832)\t0.061532162462976187\n",
            "  (0, 7948)\t0.08666268110592094\n",
            "  :\t:\n",
            "  (4985, 38550)\t0.013376247589991572\n",
            "  (4985, 38816)\t0.011182874573033574\n",
            "  (4985, 39164)\t0.06015705581385617\n",
            "  (4985, 39251)\t0.11400588483887306\n",
            "  (4985, 39339)\t0.03531182905067056\n",
            "  (4985, 39518)\t0.012440686596508639\n",
            "  (4985, 39599)\t0.008261254857671967\n",
            "  (4985, 39638)\t0.03598870753662963\n",
            "  (4985, 40131)\t0.04595889442586397\n",
            "  (4985, 40468)\t0.011119428539426728\n",
            "  (4985, 40683)\t0.018163312984969714\n",
            "  (4985, 40821)\t0.19370434881456558\n",
            "  (4985, 40950)\t0.06773915356558739\n",
            "  (4985, 40959)\t0.021555608853217667\n",
            "  (4985, 40972)\t0.021114657393595408\n",
            "  (4985, 40995)\t0.015155812960691543\n",
            "  (4985, 41104)\t0.021799058245384893\n",
            "  (4985, 41469)\t0.008492249576465672\n",
            "  (4985, 41609)\t0.009500562705470368\n",
            "  (4985, 41695)\t0.030079037633199517\n",
            "  (4985, 42283)\t0.012935977181290761\n",
            "  (4985, 42394)\t0.11316565218727093\n",
            "  (4985, 42463)\t0.009207963803398611\n",
            "  (4985, 42519)\t0.02602915857178393\n",
            "  (4985, 42864)\t0.058076961644862396\n"
          ]
        }
      ]
    },
    {
      "cell_type": "markdown",
      "source": [
        "splitting the dataset to training and test data"
      ],
      "metadata": {
        "id": "JZeEraca0cUq"
      }
    },
    {
      "cell_type": "code",
      "source": [
        "X_train,X_test,Y_train,Y_test=train_test_split(X,Y,test_size=0.2,stratify=Y,random_state=2) # X means processed content and Y is the labels . stratify- if we don't mention it , the real news and fake news won't be seggregated in equal proportions."
      ],
      "metadata": {
        "id": "XHASPcXO0hYc"
      },
      "execution_count": 25,
      "outputs": []
    },
    {
      "cell_type": "markdown",
      "source": [
        "Training the model : Logistic regression"
      ],
      "metadata": {
        "id": "zcebGDQC2IPi"
      }
    },
    {
      "cell_type": "code",
      "source": [
        "model=LogisticRegression()"
      ],
      "metadata": {
        "id": "781dWNY_2HLD"
      },
      "execution_count": 27,
      "outputs": []
    },
    {
      "cell_type": "code",
      "source": [
        "model.fit(X_train,Y_train)"
      ],
      "metadata": {
        "colab": {
          "base_uri": "https://localhost:8080/",
          "height": 80
        },
        "id": "Gte_VO3l4Kgb",
        "outputId": "246d2807-d176-49bb-96ec-bff7aafd890d"
      },
      "execution_count": 28,
      "outputs": [
        {
          "output_type": "execute_result",
          "data": {
            "text/plain": [
              "LogisticRegression()"
            ],
            "text/html": [
              "<style>#sk-container-id-1 {\n",
              "  /* Definition of color scheme common for light and dark mode */\n",
              "  --sklearn-color-text: #000;\n",
              "  --sklearn-color-text-muted: #666;\n",
              "  --sklearn-color-line: gray;\n",
              "  /* Definition of color scheme for unfitted estimators */\n",
              "  --sklearn-color-unfitted-level-0: #fff5e6;\n",
              "  --sklearn-color-unfitted-level-1: #f6e4d2;\n",
              "  --sklearn-color-unfitted-level-2: #ffe0b3;\n",
              "  --sklearn-color-unfitted-level-3: chocolate;\n",
              "  /* Definition of color scheme for fitted estimators */\n",
              "  --sklearn-color-fitted-level-0: #f0f8ff;\n",
              "  --sklearn-color-fitted-level-1: #d4ebff;\n",
              "  --sklearn-color-fitted-level-2: #b3dbfd;\n",
              "  --sklearn-color-fitted-level-3: cornflowerblue;\n",
              "\n",
              "  /* Specific color for light theme */\n",
              "  --sklearn-color-text-on-default-background: var(--sg-text-color, var(--theme-code-foreground, var(--jp-content-font-color1, black)));\n",
              "  --sklearn-color-background: var(--sg-background-color, var(--theme-background, var(--jp-layout-color0, white)));\n",
              "  --sklearn-color-border-box: var(--sg-text-color, var(--theme-code-foreground, var(--jp-content-font-color1, black)));\n",
              "  --sklearn-color-icon: #696969;\n",
              "\n",
              "  @media (prefers-color-scheme: dark) {\n",
              "    /* Redefinition of color scheme for dark theme */\n",
              "    --sklearn-color-text-on-default-background: var(--sg-text-color, var(--theme-code-foreground, var(--jp-content-font-color1, white)));\n",
              "    --sklearn-color-background: var(--sg-background-color, var(--theme-background, var(--jp-layout-color0, #111)));\n",
              "    --sklearn-color-border-box: var(--sg-text-color, var(--theme-code-foreground, var(--jp-content-font-color1, white)));\n",
              "    --sklearn-color-icon: #878787;\n",
              "  }\n",
              "}\n",
              "\n",
              "#sk-container-id-1 {\n",
              "  color: var(--sklearn-color-text);\n",
              "}\n",
              "\n",
              "#sk-container-id-1 pre {\n",
              "  padding: 0;\n",
              "}\n",
              "\n",
              "#sk-container-id-1 input.sk-hidden--visually {\n",
              "  border: 0;\n",
              "  clip: rect(1px 1px 1px 1px);\n",
              "  clip: rect(1px, 1px, 1px, 1px);\n",
              "  height: 1px;\n",
              "  margin: -1px;\n",
              "  overflow: hidden;\n",
              "  padding: 0;\n",
              "  position: absolute;\n",
              "  width: 1px;\n",
              "}\n",
              "\n",
              "#sk-container-id-1 div.sk-dashed-wrapped {\n",
              "  border: 1px dashed var(--sklearn-color-line);\n",
              "  margin: 0 0.4em 0.5em 0.4em;\n",
              "  box-sizing: border-box;\n",
              "  padding-bottom: 0.4em;\n",
              "  background-color: var(--sklearn-color-background);\n",
              "}\n",
              "\n",
              "#sk-container-id-1 div.sk-container {\n",
              "  /* jupyter's `normalize.less` sets `[hidden] { display: none; }`\n",
              "     but bootstrap.min.css set `[hidden] { display: none !important; }`\n",
              "     so we also need the `!important` here to be able to override the\n",
              "     default hidden behavior on the sphinx rendered scikit-learn.org.\n",
              "     See: https://github.com/scikit-learn/scikit-learn/issues/21755 */\n",
              "  display: inline-block !important;\n",
              "  position: relative;\n",
              "}\n",
              "\n",
              "#sk-container-id-1 div.sk-text-repr-fallback {\n",
              "  display: none;\n",
              "}\n",
              "\n",
              "div.sk-parallel-item,\n",
              "div.sk-serial,\n",
              "div.sk-item {\n",
              "  /* draw centered vertical line to link estimators */\n",
              "  background-image: linear-gradient(var(--sklearn-color-text-on-default-background), var(--sklearn-color-text-on-default-background));\n",
              "  background-size: 2px 100%;\n",
              "  background-repeat: no-repeat;\n",
              "  background-position: center center;\n",
              "}\n",
              "\n",
              "/* Parallel-specific style estimator block */\n",
              "\n",
              "#sk-container-id-1 div.sk-parallel-item::after {\n",
              "  content: \"\";\n",
              "  width: 100%;\n",
              "  border-bottom: 2px solid var(--sklearn-color-text-on-default-background);\n",
              "  flex-grow: 1;\n",
              "}\n",
              "\n",
              "#sk-container-id-1 div.sk-parallel {\n",
              "  display: flex;\n",
              "  align-items: stretch;\n",
              "  justify-content: center;\n",
              "  background-color: var(--sklearn-color-background);\n",
              "  position: relative;\n",
              "}\n",
              "\n",
              "#sk-container-id-1 div.sk-parallel-item {\n",
              "  display: flex;\n",
              "  flex-direction: column;\n",
              "}\n",
              "\n",
              "#sk-container-id-1 div.sk-parallel-item:first-child::after {\n",
              "  align-self: flex-end;\n",
              "  width: 50%;\n",
              "}\n",
              "\n",
              "#sk-container-id-1 div.sk-parallel-item:last-child::after {\n",
              "  align-self: flex-start;\n",
              "  width: 50%;\n",
              "}\n",
              "\n",
              "#sk-container-id-1 div.sk-parallel-item:only-child::after {\n",
              "  width: 0;\n",
              "}\n",
              "\n",
              "/* Serial-specific style estimator block */\n",
              "\n",
              "#sk-container-id-1 div.sk-serial {\n",
              "  display: flex;\n",
              "  flex-direction: column;\n",
              "  align-items: center;\n",
              "  background-color: var(--sklearn-color-background);\n",
              "  padding-right: 1em;\n",
              "  padding-left: 1em;\n",
              "}\n",
              "\n",
              "\n",
              "/* Toggleable style: style used for estimator/Pipeline/ColumnTransformer box that is\n",
              "clickable and can be expanded/collapsed.\n",
              "- Pipeline and ColumnTransformer use this feature and define the default style\n",
              "- Estimators will overwrite some part of the style using the `sk-estimator` class\n",
              "*/\n",
              "\n",
              "/* Pipeline and ColumnTransformer style (default) */\n",
              "\n",
              "#sk-container-id-1 div.sk-toggleable {\n",
              "  /* Default theme specific background. It is overwritten whether we have a\n",
              "  specific estimator or a Pipeline/ColumnTransformer */\n",
              "  background-color: var(--sklearn-color-background);\n",
              "}\n",
              "\n",
              "/* Toggleable label */\n",
              "#sk-container-id-1 label.sk-toggleable__label {\n",
              "  cursor: pointer;\n",
              "  display: flex;\n",
              "  width: 100%;\n",
              "  margin-bottom: 0;\n",
              "  padding: 0.5em;\n",
              "  box-sizing: border-box;\n",
              "  text-align: center;\n",
              "  align-items: start;\n",
              "  justify-content: space-between;\n",
              "  gap: 0.5em;\n",
              "}\n",
              "\n",
              "#sk-container-id-1 label.sk-toggleable__label .caption {\n",
              "  font-size: 0.6rem;\n",
              "  font-weight: lighter;\n",
              "  color: var(--sklearn-color-text-muted);\n",
              "}\n",
              "\n",
              "#sk-container-id-1 label.sk-toggleable__label-arrow:before {\n",
              "  /* Arrow on the left of the label */\n",
              "  content: \"▸\";\n",
              "  float: left;\n",
              "  margin-right: 0.25em;\n",
              "  color: var(--sklearn-color-icon);\n",
              "}\n",
              "\n",
              "#sk-container-id-1 label.sk-toggleable__label-arrow:hover:before {\n",
              "  color: var(--sklearn-color-text);\n",
              "}\n",
              "\n",
              "/* Toggleable content - dropdown */\n",
              "\n",
              "#sk-container-id-1 div.sk-toggleable__content {\n",
              "  max-height: 0;\n",
              "  max-width: 0;\n",
              "  overflow: hidden;\n",
              "  text-align: left;\n",
              "  /* unfitted */\n",
              "  background-color: var(--sklearn-color-unfitted-level-0);\n",
              "}\n",
              "\n",
              "#sk-container-id-1 div.sk-toggleable__content.fitted {\n",
              "  /* fitted */\n",
              "  background-color: var(--sklearn-color-fitted-level-0);\n",
              "}\n",
              "\n",
              "#sk-container-id-1 div.sk-toggleable__content pre {\n",
              "  margin: 0.2em;\n",
              "  border-radius: 0.25em;\n",
              "  color: var(--sklearn-color-text);\n",
              "  /* unfitted */\n",
              "  background-color: var(--sklearn-color-unfitted-level-0);\n",
              "}\n",
              "\n",
              "#sk-container-id-1 div.sk-toggleable__content.fitted pre {\n",
              "  /* unfitted */\n",
              "  background-color: var(--sklearn-color-fitted-level-0);\n",
              "}\n",
              "\n",
              "#sk-container-id-1 input.sk-toggleable__control:checked~div.sk-toggleable__content {\n",
              "  /* Expand drop-down */\n",
              "  max-height: 200px;\n",
              "  max-width: 100%;\n",
              "  overflow: auto;\n",
              "}\n",
              "\n",
              "#sk-container-id-1 input.sk-toggleable__control:checked~label.sk-toggleable__label-arrow:before {\n",
              "  content: \"▾\";\n",
              "}\n",
              "\n",
              "/* Pipeline/ColumnTransformer-specific style */\n",
              "\n",
              "#sk-container-id-1 div.sk-label input.sk-toggleable__control:checked~label.sk-toggleable__label {\n",
              "  color: var(--sklearn-color-text);\n",
              "  background-color: var(--sklearn-color-unfitted-level-2);\n",
              "}\n",
              "\n",
              "#sk-container-id-1 div.sk-label.fitted input.sk-toggleable__control:checked~label.sk-toggleable__label {\n",
              "  background-color: var(--sklearn-color-fitted-level-2);\n",
              "}\n",
              "\n",
              "/* Estimator-specific style */\n",
              "\n",
              "/* Colorize estimator box */\n",
              "#sk-container-id-1 div.sk-estimator input.sk-toggleable__control:checked~label.sk-toggleable__label {\n",
              "  /* unfitted */\n",
              "  background-color: var(--sklearn-color-unfitted-level-2);\n",
              "}\n",
              "\n",
              "#sk-container-id-1 div.sk-estimator.fitted input.sk-toggleable__control:checked~label.sk-toggleable__label {\n",
              "  /* fitted */\n",
              "  background-color: var(--sklearn-color-fitted-level-2);\n",
              "}\n",
              "\n",
              "#sk-container-id-1 div.sk-label label.sk-toggleable__label,\n",
              "#sk-container-id-1 div.sk-label label {\n",
              "  /* The background is the default theme color */\n",
              "  color: var(--sklearn-color-text-on-default-background);\n",
              "}\n",
              "\n",
              "/* On hover, darken the color of the background */\n",
              "#sk-container-id-1 div.sk-label:hover label.sk-toggleable__label {\n",
              "  color: var(--sklearn-color-text);\n",
              "  background-color: var(--sklearn-color-unfitted-level-2);\n",
              "}\n",
              "\n",
              "/* Label box, darken color on hover, fitted */\n",
              "#sk-container-id-1 div.sk-label.fitted:hover label.sk-toggleable__label.fitted {\n",
              "  color: var(--sklearn-color-text);\n",
              "  background-color: var(--sklearn-color-fitted-level-2);\n",
              "}\n",
              "\n",
              "/* Estimator label */\n",
              "\n",
              "#sk-container-id-1 div.sk-label label {\n",
              "  font-family: monospace;\n",
              "  font-weight: bold;\n",
              "  display: inline-block;\n",
              "  line-height: 1.2em;\n",
              "}\n",
              "\n",
              "#sk-container-id-1 div.sk-label-container {\n",
              "  text-align: center;\n",
              "}\n",
              "\n",
              "/* Estimator-specific */\n",
              "#sk-container-id-1 div.sk-estimator {\n",
              "  font-family: monospace;\n",
              "  border: 1px dotted var(--sklearn-color-border-box);\n",
              "  border-radius: 0.25em;\n",
              "  box-sizing: border-box;\n",
              "  margin-bottom: 0.5em;\n",
              "  /* unfitted */\n",
              "  background-color: var(--sklearn-color-unfitted-level-0);\n",
              "}\n",
              "\n",
              "#sk-container-id-1 div.sk-estimator.fitted {\n",
              "  /* fitted */\n",
              "  background-color: var(--sklearn-color-fitted-level-0);\n",
              "}\n",
              "\n",
              "/* on hover */\n",
              "#sk-container-id-1 div.sk-estimator:hover {\n",
              "  /* unfitted */\n",
              "  background-color: var(--sklearn-color-unfitted-level-2);\n",
              "}\n",
              "\n",
              "#sk-container-id-1 div.sk-estimator.fitted:hover {\n",
              "  /* fitted */\n",
              "  background-color: var(--sklearn-color-fitted-level-2);\n",
              "}\n",
              "\n",
              "/* Specification for estimator info (e.g. \"i\" and \"?\") */\n",
              "\n",
              "/* Common style for \"i\" and \"?\" */\n",
              "\n",
              ".sk-estimator-doc-link,\n",
              "a:link.sk-estimator-doc-link,\n",
              "a:visited.sk-estimator-doc-link {\n",
              "  float: right;\n",
              "  font-size: smaller;\n",
              "  line-height: 1em;\n",
              "  font-family: monospace;\n",
              "  background-color: var(--sklearn-color-background);\n",
              "  border-radius: 1em;\n",
              "  height: 1em;\n",
              "  width: 1em;\n",
              "  text-decoration: none !important;\n",
              "  margin-left: 0.5em;\n",
              "  text-align: center;\n",
              "  /* unfitted */\n",
              "  border: var(--sklearn-color-unfitted-level-1) 1pt solid;\n",
              "  color: var(--sklearn-color-unfitted-level-1);\n",
              "}\n",
              "\n",
              ".sk-estimator-doc-link.fitted,\n",
              "a:link.sk-estimator-doc-link.fitted,\n",
              "a:visited.sk-estimator-doc-link.fitted {\n",
              "  /* fitted */\n",
              "  border: var(--sklearn-color-fitted-level-1) 1pt solid;\n",
              "  color: var(--sklearn-color-fitted-level-1);\n",
              "}\n",
              "\n",
              "/* On hover */\n",
              "div.sk-estimator:hover .sk-estimator-doc-link:hover,\n",
              ".sk-estimator-doc-link:hover,\n",
              "div.sk-label-container:hover .sk-estimator-doc-link:hover,\n",
              ".sk-estimator-doc-link:hover {\n",
              "  /* unfitted */\n",
              "  background-color: var(--sklearn-color-unfitted-level-3);\n",
              "  color: var(--sklearn-color-background);\n",
              "  text-decoration: none;\n",
              "}\n",
              "\n",
              "div.sk-estimator.fitted:hover .sk-estimator-doc-link.fitted:hover,\n",
              ".sk-estimator-doc-link.fitted:hover,\n",
              "div.sk-label-container:hover .sk-estimator-doc-link.fitted:hover,\n",
              ".sk-estimator-doc-link.fitted:hover {\n",
              "  /* fitted */\n",
              "  background-color: var(--sklearn-color-fitted-level-3);\n",
              "  color: var(--sklearn-color-background);\n",
              "  text-decoration: none;\n",
              "}\n",
              "\n",
              "/* Span, style for the box shown on hovering the info icon */\n",
              ".sk-estimator-doc-link span {\n",
              "  display: none;\n",
              "  z-index: 9999;\n",
              "  position: relative;\n",
              "  font-weight: normal;\n",
              "  right: .2ex;\n",
              "  padding: .5ex;\n",
              "  margin: .5ex;\n",
              "  width: min-content;\n",
              "  min-width: 20ex;\n",
              "  max-width: 50ex;\n",
              "  color: var(--sklearn-color-text);\n",
              "  box-shadow: 2pt 2pt 4pt #999;\n",
              "  /* unfitted */\n",
              "  background: var(--sklearn-color-unfitted-level-0);\n",
              "  border: .5pt solid var(--sklearn-color-unfitted-level-3);\n",
              "}\n",
              "\n",
              ".sk-estimator-doc-link.fitted span {\n",
              "  /* fitted */\n",
              "  background: var(--sklearn-color-fitted-level-0);\n",
              "  border: var(--sklearn-color-fitted-level-3);\n",
              "}\n",
              "\n",
              ".sk-estimator-doc-link:hover span {\n",
              "  display: block;\n",
              "}\n",
              "\n",
              "/* \"?\"-specific style due to the `<a>` HTML tag */\n",
              "\n",
              "#sk-container-id-1 a.estimator_doc_link {\n",
              "  float: right;\n",
              "  font-size: 1rem;\n",
              "  line-height: 1em;\n",
              "  font-family: monospace;\n",
              "  background-color: var(--sklearn-color-background);\n",
              "  border-radius: 1rem;\n",
              "  height: 1rem;\n",
              "  width: 1rem;\n",
              "  text-decoration: none;\n",
              "  /* unfitted */\n",
              "  color: var(--sklearn-color-unfitted-level-1);\n",
              "  border: var(--sklearn-color-unfitted-level-1) 1pt solid;\n",
              "}\n",
              "\n",
              "#sk-container-id-1 a.estimator_doc_link.fitted {\n",
              "  /* fitted */\n",
              "  border: var(--sklearn-color-fitted-level-1) 1pt solid;\n",
              "  color: var(--sklearn-color-fitted-level-1);\n",
              "}\n",
              "\n",
              "/* On hover */\n",
              "#sk-container-id-1 a.estimator_doc_link:hover {\n",
              "  /* unfitted */\n",
              "  background-color: var(--sklearn-color-unfitted-level-3);\n",
              "  color: var(--sklearn-color-background);\n",
              "  text-decoration: none;\n",
              "}\n",
              "\n",
              "#sk-container-id-1 a.estimator_doc_link.fitted:hover {\n",
              "  /* fitted */\n",
              "  background-color: var(--sklearn-color-fitted-level-3);\n",
              "}\n",
              "</style><div id=\"sk-container-id-1\" class=\"sk-top-container\"><div class=\"sk-text-repr-fallback\"><pre>LogisticRegression()</pre><b>In a Jupyter environment, please rerun this cell to show the HTML representation or trust the notebook. <br />On GitHub, the HTML representation is unable to render, please try loading this page with nbviewer.org.</b></div><div class=\"sk-container\" hidden><div class=\"sk-item\"><div class=\"sk-estimator fitted sk-toggleable\"><input class=\"sk-toggleable__control sk-hidden--visually\" id=\"sk-estimator-id-1\" type=\"checkbox\" checked><label for=\"sk-estimator-id-1\" class=\"sk-toggleable__label fitted sk-toggleable__label-arrow\"><div><div>LogisticRegression</div></div><div><a class=\"sk-estimator-doc-link fitted\" rel=\"noreferrer\" target=\"_blank\" href=\"https://scikit-learn.org/1.6/modules/generated/sklearn.linear_model.LogisticRegression.html\">?<span>Documentation for LogisticRegression</span></a><span class=\"sk-estimator-doc-link fitted\">i<span>Fitted</span></span></div></label><div class=\"sk-toggleable__content fitted\"><pre>LogisticRegression()</pre></div> </div></div></div></div>"
            ]
          },
          "metadata": {},
          "execution_count": 28
        }
      ]
    },
    {
      "cell_type": "markdown",
      "source": [
        "Evaluation\n",
        "accuracy score"
      ],
      "metadata": {
        "id": "MKFdDyu24b1F"
      }
    },
    {
      "cell_type": "code",
      "source": [
        "#accuracy score on the training data\n",
        "X_train_prediction=model.predict(X_train)\n",
        "training_data_accuracy=accuracy_score(X_train_prediction,Y_train)"
      ],
      "metadata": {
        "id": "jHjXkJcY4dVK"
      },
      "execution_count": 29,
      "outputs": []
    },
    {
      "cell_type": "code",
      "source": [
        "print('Accuracy score of training data: ', training_data_accuracy)"
      ],
      "metadata": {
        "colab": {
          "base_uri": "https://localhost:8080/"
        },
        "id": "6-yRROW55Dn9",
        "outputId": "b3bbe003-cb6e-4636-cbc9-0b5c79eacaed"
      },
      "execution_count": 30,
      "outputs": [
        {
          "output_type": "stream",
          "name": "stdout",
          "text": [
            "Accuracy score of training data:  0.8538114343029087\n"
          ]
        }
      ]
    },
    {
      "cell_type": "code",
      "source": [],
      "metadata": {
        "id": "FYVM0MuV5rsG"
      },
      "execution_count": null,
      "outputs": []
    },
    {
      "cell_type": "code",
      "source": [
        "#accuracy score on the test data\n",
        "X_test_prediction=model.predict(X_test)\n",
        "test_data_accuracy=accuracy_score(X_test_prediction,Y_test)"
      ],
      "metadata": {
        "id": "U0eDyLpf5skW"
      },
      "execution_count": 31,
      "outputs": []
    },
    {
      "cell_type": "code",
      "source": [
        "print('Accuracy score of test data: ', test_data_accuracy)"
      ],
      "metadata": {
        "colab": {
          "base_uri": "https://localhost:8080/"
        },
        "id": "3uPpssS_6CH4",
        "outputId": "e36b20ca-2f1f-4fab-fcb9-2d4ae8f0dc33"
      },
      "execution_count": 32,
      "outputs": [
        {
          "output_type": "stream",
          "name": "stdout",
          "text": [
            "Accuracy score of test data:  0.7845691382765531\n"
          ]
        }
      ]
    },
    {
      "cell_type": "markdown",
      "source": [
        "making a predictive system"
      ],
      "metadata": {
        "id": "BnSG98Km6HmB"
      }
    },
    {
      "cell_type": "code",
      "source": [
        "X_new =X_test[1] # creating X_new variable and we are taking first row that is X_test[0] and we are predicting\n",
        "\n",
        "prediction=model.predict(X_new)\n",
        "print(prediction)\n",
        "\n",
        "if (prediction[0]==0):\n",
        "  print('The news is Fake')\n",
        "else:\n",
        "  print('The news is Real')"
      ],
      "metadata": {
        "colab": {
          "base_uri": "https://localhost:8080/"
        },
        "id": "dv3bKnc-6KnM",
        "outputId": "87ba0c7b-9f20-4199-8b4f-eb2d4a6d0810"
      },
      "execution_count": 41,
      "outputs": [
        {
          "output_type": "stream",
          "name": "stdout",
          "text": [
            "[0]\n",
            "The news is Fake\n"
          ]
        }
      ]
    },
    {
      "cell_type": "code",
      "source": [
        "print(Y_test.iloc[1])"
      ],
      "metadata": {
        "colab": {
          "base_uri": "https://localhost:8080/"
        },
        "id": "XGdVgKQj7RB8",
        "outputId": "ab84b7d0-4b30-470c-95a0-92a738ef6260"
      },
      "execution_count": 42,
      "outputs": [
        {
          "output_type": "stream",
          "name": "stdout",
          "text": [
            "0\n"
          ]
        }
      ]
    }
  ]
}